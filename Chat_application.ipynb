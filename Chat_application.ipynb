{
  "nbformat": 4,
  "nbformat_minor": 0,
  "metadata": {
    "colab": {
      "provenance": [],
      "authorship_tag": "ABX9TyPJQmvifUxg9B+UDgvlxSpZ",
      "include_colab_link": true
    },
    "kernelspec": {
      "name": "python3",
      "display_name": "Python 3"
    },
    "language_info": {
      "name": "python"
    }
  },
  "cells": [
    {
      "cell_type": "markdown",
      "metadata": {
        "id": "view-in-github",
        "colab_type": "text"
      },
      "source": [
        "<a href=\"https://colab.research.google.com/github/Suhanikashyap/Oasis-chat-application-/blob/main/Chat_application.ipynb\" target=\"_parent\"><img src=\"https://colab.research.google.com/assets/colab-badge.svg\" alt=\"Open In Colab\"/></a>"
      ]
    },
    {
      "cell_type": "code",
      "execution_count": 7,
      "metadata": {
        "colab": {
          "base_uri": "https://localhost:8080/"
        },
        "id": "nhRbhTsizuaQ",
        "outputId": "56042f12-8b2d-407a-aab7-fba4b61149f7"
      },
      "outputs": [
        {
          "output_type": "stream",
          "name": "stdout",
          "text": [
            "hello !\n",
            "enter your reply : Hi \n",
            "1:Need customer support \n",
            "2: Need anyother support\n",
            "enter a number : 1\n",
            "email: associate@gmail.com\n",
            "Phone number - 98754405468"
          ]
        }
      ],
      "source": [
        "print (\"hello !\")\n",
        "a=input (\"enter your reply : \")\n",
        "print (\"1:Need customer support \")\n",
        "print(\"2: Need anyother support\")\n",
        "c=int(input(\"enter a number : \"))\n",
        "if c==1:\n",
        " print (\"email: associate@gmail.com\",end=\"\\n\"\n",
        "         \"Phone number - 98754405468\")\n",
        "elif c==2:\n",
        " print (\" message on watsapp no:- 6836466368\")\n",
        "else :\n",
        " print (\"entered wrong no \")"
      ]
    }
  ]
}